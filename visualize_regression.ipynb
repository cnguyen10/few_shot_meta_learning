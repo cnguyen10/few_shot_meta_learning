{
 "cells": [
  {
   "cell_type": "code",
   "execution_count": 1,
   "id": "2e94ef27-6398-41aa-a089-6426fd4285b9",
   "metadata": {},
   "outputs": [],
   "source": [
    "import torch\n",
    "import os\n",
    "import numpy as np\n",
    "from copy import deepcopy\n",
    "from src.fsml.HyperNetClasses import IdentityNet, NormalVariationalNet\n",
    "from src.fsml.RegressionDataset import SineDataset, LineDataset\n",
    "from src.fsml._utils import train_val_split_regression\n",
    "from matplotlib import pyplot as plt\n",
    "%matplotlib inline"
   ]
  },
  {
   "cell_type": "code",
   "execution_count": 2,
   "id": "d1b4a80b-e653-48cf-b314-d0da90903bec",
   "metadata": {},
   "outputs": [],
   "source": [
    "# import the meta-learning algorithm class of interest\n",
    "from src.fsml.algorithms.Maml import Maml\n",
    "from src.fsml.algorithms.Vampire2 import Vampire2"
   ]
  },
  {
   "cell_type": "code",
   "execution_count": 3,
   "id": "b2db3121-3a1a-4c2b-8693-ccdc45befd1c",
   "metadata": {},
   "outputs": [],
   "source": [
    "# the index to concatenate to the name of a saved check-point, which will be loaded for visualization\n",
    "resume_maml = 300\n",
    "resume_vampire2 = 100"
   ]
  },
  {
   "cell_type": "code",
   "execution_count": 4,
   "id": "dfe5638a-c87d-43e0-908c-6768b96ee86d",
   "metadata": {},
   "outputs": [],
   "source": [
    "config = {}\n",
    "\n",
    "config['logdir'] = os.path.join('saved_models', 'fsml')\n",
    "\n",
    "config['datasource'] = ['SineLine']\n",
    "config['network_architecture'] = 'FcNet'\n",
    "config['num_ways'] = 1\n",
    "config['k_shot'] = 5\n",
    "config['v_shot'] = 10\n",
    "config['num_models'] = 16\n",
    "config['KL_weight'] = 1e-5\n",
    "\n",
    "config['inner_lr'] = 0.001\n",
    "config['num_inner_updates'] = 5\n",
    "config['meta_lr'] = 1e-3\n",
    "\n",
    "config['train_flag'] = False\n",
    "config['num_episodes'] = 1\n",
    "\n",
    "config['device'] = torch.device('cuda:0' if torch.cuda.is_available() else torch.device('cpu'))\n",
    "\n",
    "config['loss_function'] = torch.nn.MSELoss()\n",
    "config['train_val_split_function'] = train_val_split_regression\n",
    "\n",
    "config['first_order'] = True"
   ]
  },
  {
   "cell_type": "code",
   "execution_count": 5,
   "id": "4106ab4e-e8f5-4074-a429-ab5b54efaabc",
   "metadata": {},
   "outputs": [],
   "source": [
    "config_maml = deepcopy(config)\n",
    "config_maml['logdir'] = os.path.join(config['logdir'], 'maml', config['network_architecture'])\n",
    "maml = Maml(config=config_maml)\n",
    "\n",
    "config_vampire2 = deepcopy(config)\n",
    "config_vampire2['logdir'] = os.path.join(config['logdir'], 'vampire2', config['network_architecture'])\n",
    "vampire2 = Vampire2(config=config_vampire2)"
   ]
  },
  {
   "cell_type": "code",
   "execution_count": 6,
   "id": "891fe3b8-8e57-42b8-9c36-4742aa5d01f4",
   "metadata": {},
   "outputs": [],
   "source": [
    "sine_generator = SineDataset(amplitude_range=[2, 5], phase_range=[0, np.pi], noise_std=0.3, x_range=[-5, 5], num_samples=50)\n",
    "line_generator = LineDataset(slope_range=[-3, 3], intercept_range=[-3, 3], x_range=[-5, 5], num_samples=50, noise_std=0.3)"
   ]
  },
  {
   "cell_type": "code",
   "execution_count": 7,
   "id": "656faf34-c54d-4cfb-a001-382ac389f512",
   "metadata": {},
   "outputs": [],
   "source": [
    "regression_dataset = torch.utils.data.ConcatDataset(datasets=[sine_generator, line_generator])\n",
    "\n",
    "train_dataloader = torch.utils.data.DataLoader(dataset=regression_dataset)\n",
    "test_dataloader = torch.utils.data.DataLoader(dataset=regression_dataset)"
   ]
  },
  {
   "cell_type": "code",
   "execution_count": 8,
   "id": "b38422ee-4c90-4bfd-a66c-948b3a71f51b",
   "metadata": {},
   "outputs": [
    {
     "name": "stdout",
     "output_type": "stream",
     "text": [
      "Number of parameters of the base network = 1,761.\n",
      "\n",
      "Number of parameters of the base network = 1,761.\n",
      "\n"
     ]
    },
    {
     "name": "stderr",
     "output_type": "stream",
     "text": [
      "C:\\Users\\luisa\\miniconda3\\envs\\fsml\\lib\\site-packages\\torch\\nn\\modules\\lazy.py:178: UserWarning: Lazy modules are a new feature under heavy development so changes to the API or functionality can happen at any moment.\n",
      "  warnings.warn('Lazy modules are a new feature under heavy development '\n"
     ]
    }
   ],
   "source": [
    "models = {}\n",
    "models['maml'] = maml.load_model(resume_epoch=resume_maml, eps_dataloader=train_dataloader, hyper_net_class=IdentityNet)\n",
    "models['vampire2'] = vampire2.load_model(resume_epoch=resume_vampire2, eps_dataloader=train_dataloader, hyper_net_class=NormalVariationalNet)"
   ]
  },
  {
   "cell_type": "code",
   "execution_count": 9,
   "id": "cdf42b96-8c67-474e-bb8e-250a1389a9fa",
   "metadata": {},
   "outputs": [],
   "source": [
    "# set training mode to disable dropout\n",
    "for meta_learning_algorithm in ['maml', 'vampire2']:\n",
    "    models[meta_learning_algorithm]['f_base_net'].eval()"
   ]
  },
  {
   "cell_type": "code",
   "execution_count": 10,
   "id": "17a16287-f83f-4447-9af7-637b58992dfd",
   "metadata": {},
   "outputs": [
    {
     "data": {
      "image/png": "[encoded data removed]",
      "text/plain": [
       "<Figure size 288x288 with 1 Axes>"
      ]
     },
     "metadata": {
      "needs_background": "light"
     },
     "output_type": "display_data"
    }
   ],
   "source": [
    "x = torch.linspace(start=-5, end=5, steps=50, device=config['device'])\n",
    "\n",
    "temp = np.random.binomial(n=1, p=0.5)\n",
    "if temp == 1:\n",
    "    y = sine_generator.generate_label()\n",
    "else:\n",
    "    y = line_generator.generate_label()\n",
    "\n",
    "y_noisy = y + torch.randn_like(input=y) * sine_generator.noise_std\n",
    "\n",
    "# split data into train and validation\n",
    "split_data = config['train_val_split_function'](eps_data=[sine_generator.x[None, :], y_noisy[None, :]], k_shot=config['k_shot'])\n",
    "\n",
    "# move data to GPU (if there is a GPU)\n",
    "x_t = split_data['x_t'].to(config['device'])\n",
    "y_t = split_data['y_t'].to(config['device'])\n",
    "x_v = split_data['x_v'].to(config['device'])\n",
    "y_v = split_data['y_v'].to(config['device'])\n",
    "\n",
    "# MAML\n",
    "adapted_hyper_net = maml.adaptation(x=x_t, y=y_t, model=models['maml'])\n",
    "y_maml = maml.prediction(x=x[:, None], adapted_hyper_net=adapted_hyper_net, model=models['maml'])\n",
    "\n",
    "# Vampire2\n",
    "y_list = []\n",
    "for _ in range(config_vampire2['num_models']):\n",
    "    adapted_hyper_net = vampire2.adaptation(x=x_t, y=y_t, model=models['vampire2'])\n",
    "    y_vampire2 = vampire2.prediction(x=x[:, None], adapted_hyper_net=adapted_hyper_net, model=models['vampire2'])\n",
    "    y_vampire2 = torch.stack(tensors=y_vampire2, dim=0)\n",
    "    y_vampire2 = torch.squeeze(input=y_vampire2)\n",
    "    y_list.append(y_vampire2)\n",
    "\n",
    "y_vampire2 = torch.cat(tensors=y_list, dim=0)\n",
    "y_vampire2_mean = torch.mean(input=y_vampire2, dim=0).detach().cpu().numpy()\n",
    "y_vampire2_std = torch.std(input=y_vampire2, dim=0, unbiased=True).detach().cpu().numpy()\n",
    "\n",
    "# plot\n",
    "y = torch.squeeze(y)\n",
    "\n",
    "plt.figure(figsize=(4, 4))\n",
    "plt.scatter(x=x_t.cpu().numpy(), y=y_t.cpu().numpy(), s=80, marker='^', color='C0')\n",
    "plt.plot(x.cpu().numpy(), y, color='black', linewidth=1, linestyle='-')\n",
    "plt.plot(x.cpu().numpy(), y_maml.detach().cpu().numpy(), color='C2', linestyle='--')\n",
    "plt.fill_between(\n",
    "    x=x.cpu().numpy(),\n",
    "    y1=y_vampire2_mean + 3 * y_vampire2_std,\n",
    "    y2=y_vampire2_mean - 3 * y_vampire2_std,\n",
    "    color='C3',\n",
    "    alpha=0.25\n",
    ")\n",
    "plt.xlabel('x')\n",
    "plt.ylabel('y')\n",
    "plt.tight_layout()\n",
    "plt.show()"
   ]
  }
 ],
 "metadata": {
  "kernelspec": {
   "display_name": "Python 3",
   "language": "python",
   "name": "python3"
  },
  "language_info": {
   "codemirror_mode": {
    "name": "ipython",
    "version": 3
   },
   "file_extension": ".py",
   "mimetype": "text/x-python",
   "name": "python",
   "nbconvert_exporter": "python",
   "pygments_lexer": "ipython3",
   "version": "3.9.7"
  }
 },
 "nbformat": 4,
 "nbformat_minor": 5
}
